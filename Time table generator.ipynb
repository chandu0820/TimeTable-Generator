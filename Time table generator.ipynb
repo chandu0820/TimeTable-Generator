{
 "cells": [
  {
   "cell_type": "code",
   "execution_count": 1,
   "metadata": {},
   "outputs": [],
   "source": [
    "from numpy.random import seed\n",
    "from numpy.random import shuffle\n",
    "import numpy as np\n",
    "import random\n",
    "\n",
    "def lab():\n",
    "    k=25\n",
    "    sq1 = np.arange(25,34)\n",
    "    sq1 = np.resize(sq1,(3,3))\n",
    "    for i in sq1:\n",
    "        for j in range(3):\n",
    "            i[j] = k\n",
    "        k+=1\n",
    "    return sq1\n",
    "\n",
    "\n",
    "def process_s(sequence):\n",
    "    news= \"\"\n",
    "    for i in sequence:\n",
    "        if i != '[' and i != ']' and i != ',':\n",
    "            news +=str(i)+\" \"\n",
    "    news = news.split()\n",
    "    news =  list(map(int,news))\n",
    "\n",
    "def ch(sequence):\n",
    "    k=0\n",
    "    dummy = np.zeros(17, dtype=np.int64)\n",
    "    sequence = np.concatenate((sequence,dummy)).tolist()\n",
    "    la = lab().tolist()\n",
    "    sq = []\n",
    "    while len(sq) < 3:\n",
    "        k = random.randint(0,32)\n",
    "        if k%7 < 4 and k//6 not in sq:\n",
    "            sq.append(k//6)\n",
    "            for i in range(3):\n",
    "                sequence.insert(k,la[len(sq)-1][0])\n",
    "    return str(sequence)\n",
    "\n",
    "def process_string(sequence):\n",
    "    news= \"\"\n",
    "    for i in sequence:\n",
    "        if i != '0' and i != '[' and i != ']' and i != ',':\n",
    "            news +=i\n",
    "    return news.split()\n",
    "\n",
    "\n",
    "# seed(1)\n",
    "def gentable():\n",
    "    #42\n",
    "    sequence = np.arange(1,26)\n",
    "    shuffle(sequence)\n",
    "    for i in range(25):\n",
    "        sequence[i] = sequence[i]//5 + 1\n",
    "    s = ch(sequence)\n",
    "    sequence = process_string(s)\n",
    "    for i in range(8):\n",
    "        sequence.append('0')\n",
    "    table = np.resize(sequence,(6,7))\n",
    "    return table\n",
    "    # lp = np.arange(42,48)\n",
    "    # shuffle(lp)\n",
    "    # lp = np.reshape(lp,(6,1))\n",
    "    # table = np.hstack((table,lp ))\n",
    "    # return table\n"
   ]
  },
  {
   "cell_type": "code",
   "execution_count": 3,
   "metadata": {},
   "outputs": [
    {
     "name": "stdout",
     "output_type": "stream",
     "text": [
      "[['CO', 'DBMS', 'Python', 'OS', 'WT', 'Flat', 'WT'], ['CO', 'L3', 'L3', 'L3', 'CO', 'Python', 'DBMS'], ['WT', 'CO', 'DBMS', 'WT', 'Python', 'L2', 'L2'], ['L2', 'DBMS', 'Python', 'CO', 'DBMS', 'Flat', 'Flat'], ['Flat', 'Flat', 'WT', 'L1', 'L1', 'L1', 'Unallocated'], ['Unallocated', 'Unallocated', 'Unallocated', 'Unallocated', 'Unallocated', 'Unallocated', 'Unallocated']]\n"
     ]
    }
   ],
   "source": [
    "import matplotlib.pylab as pl\n",
    "\n",
    "names = [\"Python\",\"WT\",\"DBMS\",\"Flat\",\"CO\", \"OS\"]\n",
    "Labs = [\"L1\", \"L2\",\"L3\"]\n",
    "subphrs = 5 #25\n",
    "labhrs = 9\n",
    "extrahrs = 8\n",
    "examhrs = 6\n",
    "\n",
    "\n",
    "def conv(table):\n",
    "    for i in table:\n",
    "        for j in range(len(i)):\n",
    "            if int(i[j]) < 7:\n",
    "                if int(i[j]) == 0:\n",
    "                    i[j] = 'Unallocated'\n",
    "                else:\n",
    "                    i[j] = names[int(i[j])-1]\n",
    "            else:\n",
    "                i[j] = Labs[int(i[j]) - 25 ]\n",
    "    return table\n",
    "\n",
    "\n",
    "\n",
    "table = gentable().tolist()\n",
    "table = conv(table)\n",
    "print(table)\n"
   ]
  },
  {
   "cell_type": "code",
   "execution_count": 4,
   "metadata": {},
   "outputs": [
    {
     "data": {
      "text/plain": [
       "[]"
      ]
     },
     "execution_count": 4,
     "metadata": {},
     "output_type": "execute_result"
    },
    {
     "data": {
      "image/png": "[encoded data removed]",
      "text/plain": [
       "<Figure size 432x288 with 1 Axes>"
      ]
     },
     "metadata": {},
     "output_type": "display_data"
    }
   ],
   "source": [
    "\n",
    "ny = len(table)\n",
    "nx = len(table[0])\n",
    "\n",
    "pl.figure()\n",
    "tb = pl.table(cellText=table, loc=(0,0), cellLoc='center')\n",
    "\n",
    "tc = tb.properties()['child_artists']\n",
    "for cell in tc: \n",
    "    cell.set_height(1/ny)\n",
    "    cell.set_width(1/nx)\n",
    "\n",
    "ax = pl.gca()\n",
    "ax.set_xticks([])\n",
    "ax.set_yticks([])"
   ]
  }
 ],
 "metadata": {
  "kernelspec": {
   "display_name": "Python 3",
   "language": "python",
   "name": "python3"
  },
  "language_info": {
   "codemirror_mode": {
    "name": "ipython",
    "version": 3
   },
   "file_extension": ".py",
   "mimetype": "text/x-python",
   "name": "python",
   "nbconvert_exporter": "python",
   "pygments_lexer": "ipython3",
   "version": "3.7.1"
  }
 },
 "nbformat": 4,
 "nbformat_minor": 2
}
